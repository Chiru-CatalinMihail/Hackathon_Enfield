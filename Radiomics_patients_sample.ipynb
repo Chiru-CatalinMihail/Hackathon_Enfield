{
 "cells": [
  {
   "cell_type": "markdown",
   "id": "66c6e014",
   "metadata": {},
   "source": [
    "## Imports"
   ]
  },
  {
   "cell_type": "code",
   "execution_count": 1,
   "id": "584a41f1",
   "metadata": {},
   "outputs": [],
   "source": [
    "import os\n",
    "import warnings\n",
    "warnings.filterwarnings(\"ignore\") # remove some scikit-image warnings\n",
    "\n",
    "\n",
    "from monai.apps import DecathlonDataset, TciaDataset\n",
    "from monai.data import DataLoader\n",
    "from monai.transforms import (\n",
    "    LoadImageD,LoadImaged,\n",
    "    EnsureChannelFirstD, EnsureChannelFirstd,\n",
    "    Compose,\n",
    "    OrientationD,\n",
    "    OrientationD,\n",
    "    Rotate90D, Rotate90,\n",
    "    ResampleToMatchd\n",
    ")\n",
    "from monai.apps.tcia import TCIA_LABEL_DICT\n",
    "\n",
    "import torch\n",
    "import numpy as np\n",
    "import random\n",
    "import sys\n",
    "from tqdm import tqdm\n",
    "import pickle as pkl\n",
    "import matplotlib.pyplot as plt\n",
    "import cv2"
   ]
  },
  {
   "cell_type": "markdown",
   "id": "dc5443bf",
   "metadata": {},
   "source": [
    "## Hyperparamaters"
   ]
  },
  {
   "cell_type": "code",
   "execution_count": 2,
   "id": "68ba12a1",
   "metadata": {},
   "outputs": [],
   "source": [
    "crt_dir = os.getcwd()\n",
    "datasets_path = f'{crt_dir}/datasets/Rad/'\n",
    "\n",
    "# DOWNLOAD_FLAG = not os.path.exists(datasets_path)\n",
    "DOWNLOAD_FLAG = False\n",
    "\n",
    "KEYS = [\"image\", \"seg\"]"
   ]
  },
  {
   "cell_type": "code",
   "execution_count": 3,
   "id": "3b5fba48",
   "metadata": {},
   "outputs": [
    {
     "data": {
      "text/plain": [
       "True"
      ]
     },
     "execution_count": 3,
     "metadata": {},
     "output_type": "execute_result"
    }
   ],
   "source": [
    "# from glob import glob\n",
    "os.path.isdir(datasets_path)"
   ]
  },
  {
   "cell_type": "markdown",
   "id": "7ab99fab",
   "metadata": {},
   "source": [
    "## PREPROCESSING TRANSFORMS"
   ]
  },
  {
   "cell_type": "code",
   "execution_count": 4,
   "id": "1cd3cdeb",
   "metadata": {},
   "outputs": [],
   "source": [
    "# To decode the specific labels we need LoadImage and ResampleToMatchd based on: https://docs.monai.io/en/stable/apps.html\n",
    "# Not like in MSD, Data comes with patient alligned to the right wall (instead of left), from top of the lungs to the bottom\n",
    "# We need to rotate on those axis to keep our models alligned with MSD\n",
    "base_transform = Compose([LoadImaged(reader=\"PydicomReader\", keys=[\"seg\"], \n",
    "                                     label_dict=TCIA_LABEL_DICT[\"NSCLC-Radiomics\"]),\n",
    "                          EnsureChannelFirstd(keys = KEYS),\n",
    "                          ResampleToMatchd(keys=\"image\", key_dst=\"seg\"),\n",
    "                          Rotate90D(k=2, spatial_axes=(1, 2), keys = KEYS)\n",
    "                         ])"
   ]
  },
  {
   "cell_type": "code",
   "execution_count": 5,
   "id": "dc847619",
   "metadata": {},
   "outputs": [],
   "source": [
    "# ### TRAINING DATA ###\n",
    "train_name = 'training' # From Monai: ['training', 'validation', 'test']\n",
    "# # train_dataset = DecathlonDataset(root_dir = datasets_path,\n",
    "# #                         task = \"Task06_Lung\", section = train_name,\n",
    "# #                         transform = base_transform, download = DOWNLOAD_FLAG)\n",
    "train_dataset = TciaDataset(root_dir = datasets_path, section = train_name, download = DOWNLOAD_FLAG,\n",
    "                           collection = \"NSCLC-Radiomics\", transform = ())"
   ]
  },
  {
   "cell_type": "code",
   "execution_count": 6,
   "id": "388f2c08",
   "metadata": {},
   "outputs": [
    {
     "data": {
      "text/plain": [
       "{'image': metatensor([[[-1024., -1024., -1024.,  ..., -1024., -1024., -1024.],\n",
       "          [-1024., -1024., -1024.,  ..., -1024., -1024., -1024.],\n",
       "          [-1024., -1024., -1024.,  ..., -1024., -1024., -1024.],\n",
       "          ...,\n",
       "          [-1024., -1024., -1024.,  ..., -1024., -1024., -1024.],\n",
       "          [-1024., -1024., -1024.,  ..., -1024., -1024., -1024.],\n",
       "          [-1024., -1024., -1024.,  ..., -1024., -1024., -1024.]],\n",
       " \n",
       "         [[-1024., -1024., -1024.,  ..., -1024., -1024., -1024.],\n",
       "          [-1024., -1024., -1024.,  ..., -1024., -1024., -1024.],\n",
       "          [-1024., -1024., -1024.,  ..., -1024., -1024., -1024.],\n",
       "          ...,\n",
       "          [-1024., -1024., -1024.,  ..., -1024., -1024., -1024.],\n",
       "          [-1024., -1024., -1024.,  ..., -1024., -1024., -1024.],\n",
       "          [-1024., -1024., -1024.,  ..., -1024., -1024., -1024.]],\n",
       " \n",
       "         [[-1024., -1024., -1024.,  ..., -1024., -1024., -1024.],\n",
       "          [-1024., -1024., -1024.,  ..., -1024., -1024., -1024.],\n",
       "          [-1024., -1024., -1024.,  ..., -1024., -1024., -1024.],\n",
       "          ...,\n",
       "          [-1024., -1024., -1024.,  ..., -1024., -1024., -1024.],\n",
       "          [-1024., -1024., -1024.,  ..., -1024., -1024., -1024.],\n",
       "          [-1024., -1024., -1024.,  ..., -1024., -1024., -1024.]],\n",
       " \n",
       "         ...,\n",
       " \n",
       "         [[-1024., -1024., -1024.,  ..., -1024., -1024., -1024.],\n",
       "          [-1024., -1024., -1024.,  ..., -1024., -1024., -1024.],\n",
       "          [-1024., -1024., -1024.,  ..., -1024., -1024., -1024.],\n",
       "          ...,\n",
       "          [-1024., -1024., -1024.,  ..., -1024., -1024., -1024.],\n",
       "          [-1024., -1024., -1024.,  ..., -1024., -1024., -1024.],\n",
       "          [-1024., -1024., -1024.,  ..., -1024., -1024., -1024.]],\n",
       " \n",
       "         [[-1024., -1024., -1024.,  ..., -1024., -1024., -1024.],\n",
       "          [-1024., -1024., -1024.,  ..., -1024., -1024., -1024.],\n",
       "          [-1024., -1024., -1024.,  ..., -1024., -1024., -1024.],\n",
       "          ...,\n",
       "          [-1024., -1024., -1024.,  ..., -1024., -1024., -1024.],\n",
       "          [-1024., -1024., -1024.,  ..., -1024., -1024., -1024.],\n",
       "          [-1024., -1024., -1024.,  ..., -1024., -1024., -1024.]],\n",
       " \n",
       "         [[-1024., -1024., -1024.,  ..., -1024., -1024., -1024.],\n",
       "          [-1024., -1024., -1024.,  ..., -1024., -1024., -1024.],\n",
       "          [-1024., -1024., -1024.,  ..., -1024., -1024., -1024.],\n",
       "          ...,\n",
       "          [-1024., -1024., -1024.,  ..., -1024., -1024., -1024.],\n",
       "          [-1024., -1024., -1024.,  ..., -1024., -1024., -1024.],\n",
       "          [-1024., -1024., -1024.,  ..., -1024., -1024., -1024.]]]),\n",
       " 'seg': '/home/aimas/Desktop/Hackathon_Enfield/datasets/Rad/NSCLC-Radiomics/LUNG1-151/300/seg'}"
      ]
     },
     "execution_count": 6,
     "metadata": {},
     "output_type": "execute_result"
    }
   ],
   "source": [
    "train_dataset[0]"
   ]
  },
  {
   "cell_type": "code",
   "execution_count": 7,
   "id": "31dfbe2d",
   "metadata": {},
   "outputs": [],
   "source": [
    "def get_image_and_label(data):\n",
    "    transformed = base_transform(data)\n",
    "    transf_label = transformed['seg'].permute(1, 2, 3, 0)\n",
    "    \n",
    "    return transformed['image'], transf_label[..., 1].unsqueeze(0)"
   ]
  },
  {
   "cell_type": "code",
   "execution_count": 34,
   "id": "dd126fee",
   "metadata": {},
   "outputs": [],
   "source": [
    "# no_slices = []\n",
    "\n",
    "# for ds_idx in tqdm(range(len(train_dataset))):\n",
    "#     # print(train_dataset[ds_idx]['image'].shape)\n",
    "#     # break\n",
    "#     no_slices.append(train_dataset[ds_idx]['image'].shape[-1])\n",
    "\n",
    "# # print(np.array(no_slices).mean())\n",
    "\n",
    "# mean_training_slices = np.array(no_slices).mean()\n",
    "mean_training_slices = 120.52522255192878\n",
    "truncated_rad_tr_slices = round(mean_training_slices, 0)"
   ]
  },
  {
   "cell_type": "code",
   "execution_count": 37,
   "id": "d9878617",
   "metadata": {},
   "outputs": [],
   "source": [
    "mean_for_msd = 283\n",
    "replaced_patients_msd = 9"
   ]
  },
  {
   "cell_type": "code",
   "execution_count": 40,
   "id": "328afebf",
   "metadata": {},
   "outputs": [
    {
     "data": {
      "text/plain": [
       "21"
      ]
     },
     "execution_count": 40,
     "metadata": {},
     "output_type": "execute_result"
    }
   ],
   "source": [
    "replace_patients_rad = int(round(replaced_patients_msd * mean_for_msd / truncated_rad_tr_slices, 0))\n",
    "replace_patients_rad"
   ]
  },
  {
   "cell_type": "code",
   "execution_count": 41,
   "id": "973005af",
   "metadata": {},
   "outputs": [],
   "source": [
    "from eda_src.normalization import min_max_normalization\n",
    "from eda_src.random_sample_funcs import rmse_dev_vs_val"
   ]
  },
  {
   "cell_type": "code",
   "execution_count": 45,
   "id": "0f9d9687",
   "metadata": {},
   "outputs": [],
   "source": [
    "computational_effort_train_path = f'./msd_eda1_computational_effort_training.pkl'\n",
    "\n",
    "binning_volume_tr, _, bins_2d_tr, _, _, _ = pkl.load(open(computational_effort_train_path, 'rb'))\n",
    "normalized_bins_tr = min_max_normalization(np.sum(bins_2d_tr, axis = 0))"
   ]
  },
  {
   "cell_type": "code",
   "execution_count": 64,
   "id": "ae16d0c9",
   "metadata": {},
   "outputs": [],
   "source": [
    "def pick_best_samples(target_bins, no_tries, no_samples = 9, set_idx = None):\n",
    "    max_rmse = 0\n",
    "    best_heatmap, best_idx = None, None\n",
    "    \n",
    "    for crt_try in range(no_tries):\n",
    "        print(f'Try {crt_try + 1}/{no_tries}')\n",
    "        rand_idx = random.sample(range(len(train_dataset)), no_samples)\n",
    "\n",
    "        if set_idx is not None:\n",
    "            rand_idx = set_idx\n",
    "\n",
    "\n",
    "        dev_heatmap = np.zeros((512, 512))\n",
    "\n",
    "        for count, ds_idx in enumerate(rand_idx):\n",
    "            print(f'Adding patient: {count + 1}/{no_samples}')\n",
    "            _, label = get_image_and_label(train_dataset[ds_idx])\n",
    "            dev_heatmap += label.squeeze().sum(axis=2).numpy()\n",
    "            \n",
    "        print(f'Heatmap shape: {dev_heatmap.shape}')\n",
    "        normalised_dev_heatmap = min_max_normalization(dev_heatmap)\n",
    "\n",
    "        rmse = rmse_dev_vs_val(normalised_dev_heatmap, target_bins)\n",
    "        \n",
    "        print(f'For current indices: {rand_idx}\\nRMSE  = {rmse:.3f}')\n",
    "        \n",
    "        if rmse > max_rmse:\n",
    "            max_rmse = rmse\n",
    "            best_heatmap = dev_heatmap\n",
    "            best_idx = rand_idx\n",
    "\n",
    "        if set_idx is not None:\n",
    "            break\n",
    "    \n",
    "    return best_heatmap, best_idx, max_rmse"
   ]
  },
  {
   "cell_type": "code",
   "execution_count": 65,
   "id": "e942624a",
   "metadata": {},
   "outputs": [
    {
     "name": "stdout",
     "output_type": "stream",
     "text": [
      "Try 1/5\n",
      "Adding patient: 1/21\n",
      "Adding patient: 2/21\n",
      "Adding patient: 3/21\n",
      "Adding patient: 4/21\n",
      "Adding patient: 5/21\n",
      "Adding patient: 6/21\n",
      "Adding patient: 7/21\n",
      "Adding patient: 8/21\n",
      "Adding patient: 9/21\n",
      "Adding patient: 10/21\n",
      "Adding patient: 11/21\n",
      "Adding patient: 12/21\n",
      "Adding patient: 13/21\n",
      "Adding patient: 14/21\n",
      "Adding patient: 15/21\n",
      "Adding patient: 16/21\n",
      "Adding patient: 17/21\n",
      "Adding patient: 18/21\n",
      "Adding patient: 19/21\n",
      "Adding patient: 20/21\n",
      "Adding patient: 21/21\n",
      "Heatmap shape: (512, 512)\n",
      "For current indices: [271, 114, 121, 97, 33, 240, 168, 214, 164, 302, 12, 35, 225, 105, 221, 48, 88, 16, 71, 106, 197]\n",
      "RMSE  = 0.050\n"
     ]
    }
   ],
   "source": [
    "best_heatmap, best_idx, max_rmse = pick_best_samples(normalized_bins_tr, 5, no_samples=replace_patients_rad, set_idx=[271, 114, 121, 97, 33, 240, 168, 214, 164, 302, 12, 35, 225, 105, 221, 48, 88, 16, 71, 106, 197])\n"
   ]
  },
  {
   "cell_type": "code",
   "execution_count": 49,
   "id": "9ca1f8a3",
   "metadata": {},
   "outputs": [
    {
     "name": "stdout",
     "output_type": "stream",
     "text": [
      "146\n"
     ]
    }
   ],
   "source": [
    "# For current indices: [68, 24, 179, 42, 37, 317, 25, 58, 208, 244, 31, 328, 309, 266, 71, 313, 146, 216, 155, 14, 242]\n",
    "# RMSE  = 0.043\n",
    "# For current indices: [133, 88, 22, 246, 146, 221, 236, 307, 168, 165, 116, 44, 209, 94, 40, 333, 298, 245, 167, 144, 300]\n",
    "# RMSE  = 0.043\n",
    "# For current indices: [271, 114, 121, 97, 33, 240, 168, 214, 164, 302, 12, 35, 225, 105, 221, 48, 88, 16, 71, 106, 197]\n",
    "# RMSE  = 0.050"
   ]
  },
  {
   "cell_type": "code",
   "execution_count": 53,
   "id": "bad6a02e",
   "metadata": {},
   "outputs": [],
   "source": [
    "remove_bed_bbox_2d = (60, 450, 119, 425)\n"
   ]
  },
  {
   "cell_type": "code",
   "execution_count": 69,
   "id": "ee81b563",
   "metadata": {},
   "outputs": [
    {
     "data": {
      "image/png": "[encoded data removed]",
      "text/plain": [
       "<Figure size 1000x500 with 2 Axes>"
      ]
     },
     "metadata": {},
     "output_type": "display_data"
    }
   ],
   "source": [
    "fig, ax = plt.subplots(1, 2, figsize=(10, 5))\n",
    "\n",
    "if remove_bed_bbox_2d is not None:\n",
    "    h_min, h_max, w_min, w_max = remove_bed_bbox_2d\n",
    "    ax[0].add_patch(plt.Rectangle((w_min, h_min), w_max - w_min, h_max - h_min, fill=False, edgecolor='blue', lw=2))\n",
    "\n",
    "ax[0].imshow(best_heatmap, cmap='hot')\n",
    "\n",
    "\n",
    "ax[0].axis('off')\n",
    "ax[0].set_title(f'RMSE: {max_rmse:.3f}')\n",
    "ax[0].set_title('Patients to add heatmap')\n",
    "ax[1].imshow(normalized_bins_tr, cmap='hot')\n",
    "ax[1].axis('off')\n",
    "ax[1].set_title('Full train heatmap')\n",
    "\n",
    "\n",
    "plt.show()\n",
    "\n"
   ]
  },
  {
   "cell_type": "code",
   "execution_count": 73,
   "id": "50d0d69e",
   "metadata": {},
   "outputs": [],
   "source": [
    "def min_max_normalize(img):\n",
    "    no_stacks = img.shape[-1]\n",
    "\n",
    "    for i in range(no_stacks):\n",
    "        img[:, :, :, i] = (img[:, :, :, i] - img[:, :, :, i].min()) / (img[:, :, :, i].max() - img[:, :, :, i].min())\n",
    "\n",
    "    return img\n",
    "\n",
    "def remove_bed(img, bbox):\n",
    "    '''\n",
    "    Remove the bed from the image\n",
    "    '''\n",
    "\n",
    "    # print(img.shape)\n",
    "\n",
    "    min_img = img.min()\n",
    "    new_img = torch.ones_like(img) * min_img\n",
    "\n",
    "    new_img[:, bbox[0]:bbox[1], bbox[2]:bbox[3], :] = img[:, bbox[0]:bbox[1], bbox[2]:bbox[3], :]\n",
    "\n",
    "    return new_img\n"
   ]
  },
  {
   "cell_type": "code",
   "execution_count": 79,
   "id": "60cd93b5",
   "metadata": {},
   "outputs": [
    {
     "name": "stdout",
     "output_type": "stream",
     "text": [
      "Processing patient 271\n",
      "Processing patient 114\n",
      "Processing patient 121\n",
      "Processing patient 97\n",
      "Processing patient 33\n",
      "Processing patient 240\n",
      "Processing patient 168\n",
      "Processing patient 214\n",
      "Processing patient 164\n",
      "Processing patient 302\n",
      "Processing patient 12\n",
      "Processing patient 35\n",
      "Processing patient 225\n",
      "Processing patient 105\n",
      "Processing patient 221\n",
      "Processing patient 48\n",
      "Processing patient 88\n",
      "Processing patient 16\n",
      "Processing patient 71\n",
      "Processing patient 106\n",
      "Processing patient 197\n"
     ]
    }
   ],
   "source": [
    "# For current indices: [271, 114, 121, 97, 33, 240, 168, 214, 164, 302, 12, 35, 225, 105, 221, 48, 88, 16, 71, 106, 197]\n",
    "\n",
    "best_indices = [271, 114, 121, 97, 33, 240, 168, 214, 164, 302, 12, 35, 225, 105, 221, 48, 88, 16, 71, 106, 197]\n",
    "os.makedirs(f'{datasets_path}/rad_tr_samples', exist_ok=True)\n",
    "os.makedirs(f'{datasets_path}/rad_tr_samples/images', exist_ok=True)\n",
    "os.makedirs(f'{datasets_path}/rad_tr_samples/labels', exist_ok=True)\n",
    "\n",
    "best_index_offset = 42\n",
    "\n",
    "for idx in best_indices:\n",
    "    print(f'Processing patient {idx}')\n",
    "    image, label = get_image_and_label(train_dataset[idx])\n",
    "    image = min_max_normalize(image)\n",
    "    image = remove_bed(image, remove_bed_bbox_2d)\n",
    "    \n",
    "    torch.save(image, f'{datasets_path}/rad_tr_samples/images/patient_{best_index_offset}.pt')\n",
    "    torch.save(label, f'{datasets_path}/rad_tr_samples/labels/patient_{best_index_offset}.pt')\n",
    "\n",
    "    best_index_offset += 1\n"
   ]
  }
 ],
 "metadata": {
  "kernelspec": {
   "display_name": "Python 3 (ipykernel)",
   "language": "python",
   "name": "python3"
  },
  "language_info": {
   "codemirror_mode": {
    "name": "ipython",
    "version": 3
   },
   "file_extension": ".py",
   "mimetype": "text/x-python",
   "name": "python",
   "nbconvert_exporter": "python",
   "pygments_lexer": "ipython3",
   "version": "3.9.13"
  }
 },
 "nbformat": 4,
 "nbformat_minor": 5
}
